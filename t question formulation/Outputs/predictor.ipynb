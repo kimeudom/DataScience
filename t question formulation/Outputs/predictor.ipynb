{
 "cells": [
  {
   "cell_type": "code",
   "execution_count": 230,
   "metadata": {},
   "outputs": [],
   "source": [
    "import pandas as pd\n",
    "import numpy as np\n",
    "import matplotlib.pyplot as plt \n",
    "import datetime"
   ]
  },
  {
   "cell_type": "code",
   "execution_count": 231,
   "metadata": {},
   "outputs": [],
   "source": [
    "df0=pd.read_csv(r\"D:\\github\\DataScience\\t question formulation\\Outputs\\Contraceptives per month.csv\")\n",
    "#df0.drop(['Unnamed: 13','Unnamed: 14','Unnamed: 15','Unnamed: 16','Unnamed: 17','Unnamed: 18','sum','Unnamed: 20','total contraceptives used in one year'],axis=1,inplace=True)\n",
    "df1=pd.read_csv(r\"D:\\github\\DataScience\\t question formulation\\Outputs\\HIV_monthly.csv\")\n",
    "df2=pd.read_csv(r\"D:\\github\\DataScience\\t question formulation\\Outputs\\Total contraceptives per county.csv\")\n"
   ]
  },
  {
   "cell_type": "code",
   "execution_count": 232,
   "metadata": {},
   "outputs": [],
   "source": [
    "frame = [df1,df0]\n",
    "df=pd.concat(frame, ignore_index=True)\n",
    "#print(df.columns)"
   ]
  },
  {
   "cell_type": "code",
   "execution_count": 233,
   "metadata": {},
   "outputs": [
    {
     "name": "stdout",
     "output_type": "stream",
     "text": [
      "            County   Jan   Feb   Mar   Apr   May   Jun   Jul   Aug   Sep  ...  \\\n",
      "0   Baringo County  41.0  49.0  34.0  47.0  51.0  59.0  46.0  34.0  37.0  ...   \n",
      "18  Baringo County   NaN   NaN   NaN   NaN   NaN   NaN   NaN   NaN   NaN  ...   \n",
      "\n",
      "     1-Dec  Unnamed: 13  Unnamed: 14  Unnamed: 15  Unnamed: 16  Unnamed: 17  \\\n",
      "0      NaN          NaN          NaN          NaN          NaN          NaN   \n",
      "18  1402.0          NaN          NaN          NaN          NaN          NaN   \n",
      "\n",
      "    Unnamed: 18  sum  Unnamed: 20  total contraceptives used in one year  \n",
      "0           NaN  NaN          NaN                                    NaN  \n",
      "18          NaN  NaN          NaN                                    NaN  \n",
      "\n",
      "[2 rows x 34 columns]\n"
     ]
    }
   ],
   "source": [
    "endTrain = 9\n",
    "df3 = df.copy(deep=True)\n",
    "df3 = df[df[\"County\"].isin(['Baringo County'])]\n",
    "print(df3)"
   ]
  },
  {
   "cell_type": "code",
   "execution_count": 234,
   "metadata": {},
   "outputs": [
    {
     "ename": "ValueError",
     "evalue": "Length of values (2) does not match length of index (65)",
     "output_type": "error",
     "traceback": [
      "\u001b[1;31m---------------------------------------------------------------------------\u001b[0m",
      "\u001b[1;31mValueError\u001b[0m                                Traceback (most recent call last)",
      "\u001b[1;32md:\\github\\DataScience\\t question formulation\\Outputs\\predictor.ipynb Cell 5'\u001b[0m in \u001b[0;36m<cell line: 1>\u001b[1;34m()\u001b[0m\n\u001b[1;32m----> <a href='vscode-notebook-cell:/d%3A/github/DataScience/t%20question%20formulation/Outputs/predictor.ipynb#ch0000004?line=0'>1</a>\u001b[0m df[\u001b[39m\"\u001b[39m\u001b[39mMonths\u001b[39m\u001b[39m\"\u001b[39m]\u001b[39m=\u001b[39mdf3\u001b[39m.\u001b[39mindex\n\u001b[0;32m      <a href='vscode-notebook-cell:/d%3A/github/DataScience/t%20question%20formulation/Outputs/predictor.ipynb#ch0000004?line=1'>2</a>\u001b[0m train\u001b[39m=\u001b[39mdf3[df3\u001b[39m.\u001b[39mMonths\u001b[39m<\u001b[39m\u001b[39m=\u001b[39mendTrain]\n\u001b[0;32m      <a href='vscode-notebook-cell:/d%3A/github/DataScience/t%20question%20formulation/Outputs/predictor.ipynb#ch0000004?line=2'>3</a>\u001b[0m test \u001b[39m=\u001b[39m df3[df3\u001b[39m.\u001b[39mMonths\u001b[39m>\u001b[39mendTrain]\n",
      "File \u001b[1;32m~\\AppData\\Local\\Programs\\Python\\Python310\\lib\\site-packages\\pandas\\core\\frame.py:3655\u001b[0m, in \u001b[0;36mDataFrame.__setitem__\u001b[1;34m(self, key, value)\u001b[0m\n\u001b[0;32m   <a href='file:///c%3A/Users/Kalunda/AppData/Local/Programs/Python/Python310/lib/site-packages/pandas/core/frame.py?line=3651'>3652</a>\u001b[0m     \u001b[39mself\u001b[39m\u001b[39m.\u001b[39m_setitem_array([key], value)\n\u001b[0;32m   <a href='file:///c%3A/Users/Kalunda/AppData/Local/Programs/Python/Python310/lib/site-packages/pandas/core/frame.py?line=3652'>3653</a>\u001b[0m \u001b[39melse\u001b[39;00m:\n\u001b[0;32m   <a href='file:///c%3A/Users/Kalunda/AppData/Local/Programs/Python/Python310/lib/site-packages/pandas/core/frame.py?line=3653'>3654</a>\u001b[0m     \u001b[39m# set column\u001b[39;00m\n\u001b[1;32m-> <a href='file:///c%3A/Users/Kalunda/AppData/Local/Programs/Python/Python310/lib/site-packages/pandas/core/frame.py?line=3654'>3655</a>\u001b[0m     \u001b[39mself\u001b[39;49m\u001b[39m.\u001b[39;49m_set_item(key, value)\n",
      "File \u001b[1;32m~\\AppData\\Local\\Programs\\Python\\Python310\\lib\\site-packages\\pandas\\core\\frame.py:3832\u001b[0m, in \u001b[0;36mDataFrame._set_item\u001b[1;34m(self, key, value)\u001b[0m\n\u001b[0;32m   <a href='file:///c%3A/Users/Kalunda/AppData/Local/Programs/Python/Python310/lib/site-packages/pandas/core/frame.py?line=3821'>3822</a>\u001b[0m \u001b[39mdef\u001b[39;00m \u001b[39m_set_item\u001b[39m(\u001b[39mself\u001b[39m, key, value) \u001b[39m-\u001b[39m\u001b[39m>\u001b[39m \u001b[39mNone\u001b[39;00m:\n\u001b[0;32m   <a href='file:///c%3A/Users/Kalunda/AppData/Local/Programs/Python/Python310/lib/site-packages/pandas/core/frame.py?line=3822'>3823</a>\u001b[0m     \u001b[39m\"\"\"\u001b[39;00m\n\u001b[0;32m   <a href='file:///c%3A/Users/Kalunda/AppData/Local/Programs/Python/Python310/lib/site-packages/pandas/core/frame.py?line=3823'>3824</a>\u001b[0m \u001b[39m    Add series to DataFrame in specified column.\u001b[39;00m\n\u001b[0;32m   <a href='file:///c%3A/Users/Kalunda/AppData/Local/Programs/Python/Python310/lib/site-packages/pandas/core/frame.py?line=3824'>3825</a>\u001b[0m \n\u001b[1;32m   (...)\u001b[0m\n\u001b[0;32m   <a href='file:///c%3A/Users/Kalunda/AppData/Local/Programs/Python/Python310/lib/site-packages/pandas/core/frame.py?line=3829'>3830</a>\u001b[0m \u001b[39m    ensure homogeneity.\u001b[39;00m\n\u001b[0;32m   <a href='file:///c%3A/Users/Kalunda/AppData/Local/Programs/Python/Python310/lib/site-packages/pandas/core/frame.py?line=3830'>3831</a>\u001b[0m \u001b[39m    \"\"\"\u001b[39;00m\n\u001b[1;32m-> <a href='file:///c%3A/Users/Kalunda/AppData/Local/Programs/Python/Python310/lib/site-packages/pandas/core/frame.py?line=3831'>3832</a>\u001b[0m     value \u001b[39m=\u001b[39m \u001b[39mself\u001b[39;49m\u001b[39m.\u001b[39;49m_sanitize_column(value)\n\u001b[0;32m   <a href='file:///c%3A/Users/Kalunda/AppData/Local/Programs/Python/Python310/lib/site-packages/pandas/core/frame.py?line=3833'>3834</a>\u001b[0m     \u001b[39mif\u001b[39;00m (\n\u001b[0;32m   <a href='file:///c%3A/Users/Kalunda/AppData/Local/Programs/Python/Python310/lib/site-packages/pandas/core/frame.py?line=3834'>3835</a>\u001b[0m         key \u001b[39min\u001b[39;00m \u001b[39mself\u001b[39m\u001b[39m.\u001b[39mcolumns\n\u001b[0;32m   <a href='file:///c%3A/Users/Kalunda/AppData/Local/Programs/Python/Python310/lib/site-packages/pandas/core/frame.py?line=3835'>3836</a>\u001b[0m         \u001b[39mand\u001b[39;00m value\u001b[39m.\u001b[39mndim \u001b[39m==\u001b[39m \u001b[39m1\u001b[39m\n\u001b[0;32m   <a href='file:///c%3A/Users/Kalunda/AppData/Local/Programs/Python/Python310/lib/site-packages/pandas/core/frame.py?line=3836'>3837</a>\u001b[0m         \u001b[39mand\u001b[39;00m \u001b[39mnot\u001b[39;00m is_extension_array_dtype(value)\n\u001b[0;32m   <a href='file:///c%3A/Users/Kalunda/AppData/Local/Programs/Python/Python310/lib/site-packages/pandas/core/frame.py?line=3837'>3838</a>\u001b[0m     ):\n\u001b[0;32m   <a href='file:///c%3A/Users/Kalunda/AppData/Local/Programs/Python/Python310/lib/site-packages/pandas/core/frame.py?line=3838'>3839</a>\u001b[0m         \u001b[39m# broadcast across multiple columns if necessary\u001b[39;00m\n\u001b[0;32m   <a href='file:///c%3A/Users/Kalunda/AppData/Local/Programs/Python/Python310/lib/site-packages/pandas/core/frame.py?line=3839'>3840</a>\u001b[0m         \u001b[39mif\u001b[39;00m \u001b[39mnot\u001b[39;00m \u001b[39mself\u001b[39m\u001b[39m.\u001b[39mcolumns\u001b[39m.\u001b[39mis_unique \u001b[39mor\u001b[39;00m \u001b[39misinstance\u001b[39m(\u001b[39mself\u001b[39m\u001b[39m.\u001b[39mcolumns, MultiIndex):\n",
      "File \u001b[1;32m~\\AppData\\Local\\Programs\\Python\\Python310\\lib\\site-packages\\pandas\\core\\frame.py:4529\u001b[0m, in \u001b[0;36mDataFrame._sanitize_column\u001b[1;34m(self, value)\u001b[0m\n\u001b[0;32m   <a href='file:///c%3A/Users/Kalunda/AppData/Local/Programs/Python/Python310/lib/site-packages/pandas/core/frame.py?line=4525'>4526</a>\u001b[0m     \u001b[39mreturn\u001b[39;00m _reindex_for_setitem(value, \u001b[39mself\u001b[39m\u001b[39m.\u001b[39mindex)\n\u001b[0;32m   <a href='file:///c%3A/Users/Kalunda/AppData/Local/Programs/Python/Python310/lib/site-packages/pandas/core/frame.py?line=4527'>4528</a>\u001b[0m \u001b[39mif\u001b[39;00m is_list_like(value):\n\u001b[1;32m-> <a href='file:///c%3A/Users/Kalunda/AppData/Local/Programs/Python/Python310/lib/site-packages/pandas/core/frame.py?line=4528'>4529</a>\u001b[0m     com\u001b[39m.\u001b[39;49mrequire_length_match(value, \u001b[39mself\u001b[39;49m\u001b[39m.\u001b[39;49mindex)\n\u001b[0;32m   <a href='file:///c%3A/Users/Kalunda/AppData/Local/Programs/Python/Python310/lib/site-packages/pandas/core/frame.py?line=4529'>4530</a>\u001b[0m \u001b[39mreturn\u001b[39;00m sanitize_array(value, \u001b[39mself\u001b[39m\u001b[39m.\u001b[39mindex, copy\u001b[39m=\u001b[39m\u001b[39mTrue\u001b[39;00m, allow_2d\u001b[39m=\u001b[39m\u001b[39mTrue\u001b[39;00m)\n",
      "File \u001b[1;32m~\\AppData\\Local\\Programs\\Python\\Python310\\lib\\site-packages\\pandas\\core\\common.py:557\u001b[0m, in \u001b[0;36mrequire_length_match\u001b[1;34m(data, index)\u001b[0m\n\u001b[0;32m    <a href='file:///c%3A/Users/Kalunda/AppData/Local/Programs/Python/Python310/lib/site-packages/pandas/core/common.py?line=552'>553</a>\u001b[0m \u001b[39m\"\"\"\u001b[39;00m\n\u001b[0;32m    <a href='file:///c%3A/Users/Kalunda/AppData/Local/Programs/Python/Python310/lib/site-packages/pandas/core/common.py?line=553'>554</a>\u001b[0m \u001b[39mCheck the length of data matches the length of the index.\u001b[39;00m\n\u001b[0;32m    <a href='file:///c%3A/Users/Kalunda/AppData/Local/Programs/Python/Python310/lib/site-packages/pandas/core/common.py?line=554'>555</a>\u001b[0m \u001b[39m\"\"\"\u001b[39;00m\n\u001b[0;32m    <a href='file:///c%3A/Users/Kalunda/AppData/Local/Programs/Python/Python310/lib/site-packages/pandas/core/common.py?line=555'>556</a>\u001b[0m \u001b[39mif\u001b[39;00m \u001b[39mlen\u001b[39m(data) \u001b[39m!=\u001b[39m \u001b[39mlen\u001b[39m(index):\n\u001b[1;32m--> <a href='file:///c%3A/Users/Kalunda/AppData/Local/Programs/Python/Python310/lib/site-packages/pandas/core/common.py?line=556'>557</a>\u001b[0m     \u001b[39mraise\u001b[39;00m \u001b[39mValueError\u001b[39;00m(\n\u001b[0;32m    <a href='file:///c%3A/Users/Kalunda/AppData/Local/Programs/Python/Python310/lib/site-packages/pandas/core/common.py?line=557'>558</a>\u001b[0m         \u001b[39m\"\u001b[39m\u001b[39mLength of values \u001b[39m\u001b[39m\"\u001b[39m\n\u001b[0;32m    <a href='file:///c%3A/Users/Kalunda/AppData/Local/Programs/Python/Python310/lib/site-packages/pandas/core/common.py?line=558'>559</a>\u001b[0m         \u001b[39mf\u001b[39m\u001b[39m\"\u001b[39m\u001b[39m(\u001b[39m\u001b[39m{\u001b[39;00m\u001b[39mlen\u001b[39m(data)\u001b[39m}\u001b[39;00m\u001b[39m) \u001b[39m\u001b[39m\"\u001b[39m\n\u001b[0;32m    <a href='file:///c%3A/Users/Kalunda/AppData/Local/Programs/Python/Python310/lib/site-packages/pandas/core/common.py?line=559'>560</a>\u001b[0m         \u001b[39m\"\u001b[39m\u001b[39mdoes not match length of index \u001b[39m\u001b[39m\"\u001b[39m\n\u001b[0;32m    <a href='file:///c%3A/Users/Kalunda/AppData/Local/Programs/Python/Python310/lib/site-packages/pandas/core/common.py?line=560'>561</a>\u001b[0m         \u001b[39mf\u001b[39m\u001b[39m\"\u001b[39m\u001b[39m(\u001b[39m\u001b[39m{\u001b[39;00m\u001b[39mlen\u001b[39m(index)\u001b[39m}\u001b[39;00m\u001b[39m)\u001b[39m\u001b[39m\"\u001b[39m\n\u001b[0;32m    <a href='file:///c%3A/Users/Kalunda/AppData/Local/Programs/Python/Python310/lib/site-packages/pandas/core/common.py?line=561'>562</a>\u001b[0m     )\n",
      "\u001b[1;31mValueError\u001b[0m: Length of values (2) does not match length of index (65)"
     ]
    }
   ],
   "source": [
    "df[\"Months\"]=df3.index\n",
    "train=df3[df3.Months<=endTrain]\n",
    "test = df3[df3.Months>endTrain]"
   ]
  },
  {
   "cell_type": "code",
   "execution_count": null,
   "metadata": {},
   "outputs": [
    {
     "name": "stdout",
     "output_type": "stream",
     "text": [
      "           County   Totals  Months\n",
      "5  Baringo County  23525.0       5\n"
     ]
    }
   ],
   "source": [
    "print(train)\n",
    "#print(test.shape)\n",
    "#train.head()\n",
    "#print(test)"
   ]
  },
  {
   "cell_type": "code",
   "execution_count": null,
   "metadata": {},
   "outputs": [
    {
     "name": "stdout",
     "output_type": "stream",
     "text": [
      "           County   Totals  Months\n",
      "5  Baringo County  23525.0       5\n"
     ]
    }
   ],
   "source": [
    "from pmdarima.arima import auto_arima\n",
    "#train = df3.drop([\"County\",\"Months\",\"Jan\",\"Feb\", \"Mar\",\"Apr\",\"May\",\"Jun\",\"Jul\",\"Aug\",\"Sep\",\"Oct\",\"Nov\",\"Dec\",],axis=1)\n",
    "print(train)"
   ]
  },
  {
   "cell_type": "code",
   "execution_count": null,
   "metadata": {},
   "outputs": [
    {
     "ename": "ValueError",
     "evalue": "could not convert string to float: 'Baringo County'",
     "output_type": "error",
     "traceback": [
      "\u001b[1;31m---------------------------------------------------------------------------\u001b[0m",
      "\u001b[1;31mValueError\u001b[0m                                Traceback (most recent call last)",
      "\u001b[1;32md:\\github\\DataScience\\t question formulation\\Outputs\\predictor.ipynb Cell 8'\u001b[0m in \u001b[0;36m<cell line: 1>\u001b[1;34m()\u001b[0m\n\u001b[1;32m----> <a href='vscode-notebook-cell:/d%3A/github/DataScience/t%20question%20formulation/Outputs/predictor.ipynb#ch0000007?line=0'>1</a>\u001b[0m model \u001b[39m=\u001b[39m auto_arima(train, error_action\u001b[39m=\u001b[39;49m\u001b[39m'\u001b[39;49m\u001b[39mignore\u001b[39;49m\u001b[39m'\u001b[39;49m, suppress_warnings\u001b[39m=\u001b[39;49m\u001b[39mTrue\u001b[39;49;00m)\n",
      "File \u001b[1;32m~\\AppData\\Local\\Programs\\Python\\Python310\\lib\\site-packages\\pmdarima\\arima\\auto.py:438\u001b[0m, in \u001b[0;36mauto_arima\u001b[1;34m(y, X, start_p, d, start_q, max_p, max_d, max_q, start_P, D, start_Q, max_P, max_D, max_Q, max_order, m, seasonal, stationary, information_criterion, alpha, test, seasonal_test, stepwise, n_jobs, start_params, trend, method, maxiter, offset_test_args, seasonal_test_args, suppress_warnings, error_action, trace, random, random_state, n_fits, return_valid_fits, out_of_sample_size, scoring, scoring_args, with_intercept, sarimax_kwargs, **fit_args)\u001b[0m\n\u001b[0;32m    <a href='file:///c%3A/Users/Kalunda/AppData/Local/Programs/Python/Python310/lib/site-packages/pmdarima/arima/auto.py?line=434'>435</a>\u001b[0m start \u001b[39m=\u001b[39m time\u001b[39m.\u001b[39mtime()\n\u001b[0;32m    <a href='file:///c%3A/Users/Kalunda/AppData/Local/Programs/Python/Python310/lib/site-packages/pmdarima/arima/auto.py?line=436'>437</a>\u001b[0m \u001b[39m# copy array\u001b[39;00m\n\u001b[1;32m--> <a href='file:///c%3A/Users/Kalunda/AppData/Local/Programs/Python/Python310/lib/site-packages/pmdarima/arima/auto.py?line=437'>438</a>\u001b[0m y \u001b[39m=\u001b[39m check_endog(y, dtype\u001b[39m=\u001b[39;49mDTYPE)\n\u001b[0;32m    <a href='file:///c%3A/Users/Kalunda/AppData/Local/Programs/Python/Python310/lib/site-packages/pmdarima/arima/auto.py?line=438'>439</a>\u001b[0m n_samples \u001b[39m=\u001b[39m y\u001b[39m.\u001b[39mshape[\u001b[39m0\u001b[39m]\n\u001b[0;32m    <a href='file:///c%3A/Users/Kalunda/AppData/Local/Programs/Python/Python310/lib/site-packages/pmdarima/arima/auto.py?line=440'>441</a>\u001b[0m \u001b[39m# the workhorse of the model fits\u001b[39;00m\n",
      "File \u001b[1;32m~\\AppData\\Local\\Programs\\Python\\Python310\\lib\\site-packages\\pmdarima\\utils\\array.py:170\u001b[0m, in \u001b[0;36mcheck_endog\u001b[1;34m(y, dtype, copy, force_all_finite)\u001b[0m\n\u001b[0;32m    <a href='file:///c%3A/Users/Kalunda/AppData/Local/Programs/Python/Python310/lib/site-packages/pmdarima/utils/array.py?line=140'>141</a>\u001b[0m \u001b[39mdef\u001b[39;00m \u001b[39mcheck_endog\u001b[39m(y, dtype\u001b[39m=\u001b[39mDTYPE, copy\u001b[39m=\u001b[39m\u001b[39mTrue\u001b[39;00m, force_all_finite\u001b[39m=\u001b[39m\u001b[39mFalse\u001b[39;00m):\n\u001b[0;32m    <a href='file:///c%3A/Users/Kalunda/AppData/Local/Programs/Python/Python310/lib/site-packages/pmdarima/utils/array.py?line=141'>142</a>\u001b[0m     \u001b[39m\"\"\"Wrapper for ``check_array`` and ``column_or_1d`` from sklearn\u001b[39;00m\n\u001b[0;32m    <a href='file:///c%3A/Users/Kalunda/AppData/Local/Programs/Python/Python310/lib/site-packages/pmdarima/utils/array.py?line=142'>143</a>\u001b[0m \n\u001b[0;32m    <a href='file:///c%3A/Users/Kalunda/AppData/Local/Programs/Python/Python310/lib/site-packages/pmdarima/utils/array.py?line=143'>144</a>\u001b[0m \u001b[39m    Parameters\u001b[39;00m\n\u001b[1;32m   (...)\u001b[0m\n\u001b[0;32m    <a href='file:///c%3A/Users/Kalunda/AppData/Local/Programs/Python/Python310/lib/site-packages/pmdarima/utils/array.py?line=166'>167</a>\u001b[0m \u001b[39m        A 1d numpy ndarray\u001b[39;00m\n\u001b[0;32m    <a href='file:///c%3A/Users/Kalunda/AppData/Local/Programs/Python/Python310/lib/site-packages/pmdarima/utils/array.py?line=167'>168</a>\u001b[0m \u001b[39m    \"\"\"\u001b[39;00m\n\u001b[0;32m    <a href='file:///c%3A/Users/Kalunda/AppData/Local/Programs/Python/Python310/lib/site-packages/pmdarima/utils/array.py?line=168'>169</a>\u001b[0m     \u001b[39mreturn\u001b[39;00m column_or_1d(\n\u001b[1;32m--> <a href='file:///c%3A/Users/Kalunda/AppData/Local/Programs/Python/Python310/lib/site-packages/pmdarima/utils/array.py?line=169'>170</a>\u001b[0m         check_array(y, ensure_2d\u001b[39m=\u001b[39;49m\u001b[39mFalse\u001b[39;49;00m, force_all_finite\u001b[39m=\u001b[39;49mforce_all_finite,\n\u001b[0;32m    <a href='file:///c%3A/Users/Kalunda/AppData/Local/Programs/Python/Python310/lib/site-packages/pmdarima/utils/array.py?line=170'>171</a>\u001b[0m                     copy\u001b[39m=\u001b[39;49mcopy, dtype\u001b[39m=\u001b[39;49mdtype))\n",
      "File \u001b[1;32m~\\AppData\\Local\\Programs\\Python\\Python310\\lib\\site-packages\\sklearn\\utils\\validation.py:746\u001b[0m, in \u001b[0;36mcheck_array\u001b[1;34m(array, accept_sparse, accept_large_sparse, dtype, order, copy, force_all_finite, ensure_2d, allow_nd, ensure_min_samples, ensure_min_features, estimator)\u001b[0m\n\u001b[0;32m    <a href='file:///c%3A/Users/Kalunda/AppData/Local/Programs/Python/Python310/lib/site-packages/sklearn/utils/validation.py?line=743'>744</a>\u001b[0m         array \u001b[39m=\u001b[39m array\u001b[39m.\u001b[39mastype(dtype, casting\u001b[39m=\u001b[39m\u001b[39m\"\u001b[39m\u001b[39munsafe\u001b[39m\u001b[39m\"\u001b[39m, copy\u001b[39m=\u001b[39m\u001b[39mFalse\u001b[39;00m)\n\u001b[0;32m    <a href='file:///c%3A/Users/Kalunda/AppData/Local/Programs/Python/Python310/lib/site-packages/sklearn/utils/validation.py?line=744'>745</a>\u001b[0m     \u001b[39melse\u001b[39;00m:\n\u001b[1;32m--> <a href='file:///c%3A/Users/Kalunda/AppData/Local/Programs/Python/Python310/lib/site-packages/sklearn/utils/validation.py?line=745'>746</a>\u001b[0m         array \u001b[39m=\u001b[39m np\u001b[39m.\u001b[39;49masarray(array, order\u001b[39m=\u001b[39;49morder, dtype\u001b[39m=\u001b[39;49mdtype)\n\u001b[0;32m    <a href='file:///c%3A/Users/Kalunda/AppData/Local/Programs/Python/Python310/lib/site-packages/sklearn/utils/validation.py?line=746'>747</a>\u001b[0m \u001b[39mexcept\u001b[39;00m ComplexWarning \u001b[39mas\u001b[39;00m complex_warning:\n\u001b[0;32m    <a href='file:///c%3A/Users/Kalunda/AppData/Local/Programs/Python/Python310/lib/site-packages/sklearn/utils/validation.py?line=747'>748</a>\u001b[0m     \u001b[39mraise\u001b[39;00m \u001b[39mValueError\u001b[39;00m(\n\u001b[0;32m    <a href='file:///c%3A/Users/Kalunda/AppData/Local/Programs/Python/Python310/lib/site-packages/sklearn/utils/validation.py?line=748'>749</a>\u001b[0m         \u001b[39m\"\u001b[39m\u001b[39mComplex data not supported\u001b[39m\u001b[39m\\n\u001b[39;00m\u001b[39m{}\u001b[39;00m\u001b[39m\\n\u001b[39;00m\u001b[39m\"\u001b[39m\u001b[39m.\u001b[39mformat(array)\n\u001b[0;32m    <a href='file:///c%3A/Users/Kalunda/AppData/Local/Programs/Python/Python310/lib/site-packages/sklearn/utils/validation.py?line=749'>750</a>\u001b[0m     ) \u001b[39mfrom\u001b[39;00m \u001b[39mcomplex_warning\u001b[39;00m\n",
      "File \u001b[1;32m~\\AppData\\Local\\Programs\\Python\\Python310\\lib\\site-packages\\pandas\\core\\generic.py:2072\u001b[0m, in \u001b[0;36mNDFrame.__array__\u001b[1;34m(self, dtype)\u001b[0m\n\u001b[0;32m   <a href='file:///c%3A/Users/Kalunda/AppData/Local/Programs/Python/Python310/lib/site-packages/pandas/core/generic.py?line=2070'>2071</a>\u001b[0m \u001b[39mdef\u001b[39;00m \u001b[39m__array__\u001b[39m(\u001b[39mself\u001b[39m, dtype: npt\u001b[39m.\u001b[39mDTypeLike \u001b[39m|\u001b[39m \u001b[39mNone\u001b[39;00m \u001b[39m=\u001b[39m \u001b[39mNone\u001b[39;00m) \u001b[39m-\u001b[39m\u001b[39m>\u001b[39m np\u001b[39m.\u001b[39mndarray:\n\u001b[1;32m-> <a href='file:///c%3A/Users/Kalunda/AppData/Local/Programs/Python/Python310/lib/site-packages/pandas/core/generic.py?line=2071'>2072</a>\u001b[0m     \u001b[39mreturn\u001b[39;00m np\u001b[39m.\u001b[39;49masarray(\u001b[39mself\u001b[39;49m\u001b[39m.\u001b[39;49m_values, dtype\u001b[39m=\u001b[39;49mdtype)\n",
      "\u001b[1;31mValueError\u001b[0m: could not convert string to float: 'Baringo County'"
     ]
    }
   ],
   "source": [
    "\n",
    "model = auto_arima(train, error_action='ignore', suppress_warnings=True)"
   ]
  },
  {
   "cell_type": "code",
   "execution_count": null,
   "metadata": {},
   "outputs": [],
   "source": [
    "model.fit(train) #trains the model"
   ]
  },
  {
   "cell_type": "code",
   "execution_count": null,
   "metadata": {},
   "outputs": [],
   "source": [
    "predicted=model.predict(n_periods=len(test))\n",
    "print(predicted)"
   ]
  }
 ],
 "metadata": {
  "interpreter": {
   "hash": "555d1be5594ee0fde235eb6774242f4be35413992433a2a799e4133ab21fb261"
  },
  "kernelspec": {
   "display_name": "Python 3.10.2 64-bit",
   "language": "python",
   "name": "python3"
  },
  "language_info": {
   "codemirror_mode": {
    "name": "ipython",
    "version": 3
   },
   "file_extension": ".py",
   "mimetype": "text/x-python",
   "name": "python",
   "nbconvert_exporter": "python",
   "pygments_lexer": "ipython3",
   "version": "3.10.2"
  },
  "orig_nbformat": 4
 },
 "nbformat": 4,
 "nbformat_minor": 2
}
