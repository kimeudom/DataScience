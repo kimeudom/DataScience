{
 "cells": [
  {
   "cell_type": "markdown",
   "metadata": {},
   "source": [
    "# Time series"
   ]
  },
  {
   "cell_type": "code",
   "execution_count": 13,
   "metadata": {},
   "outputs": [],
   "source": [
    "import pandas as pd\n",
    "import numpy as np\n",
    "import matplotlib.pyplot as plt \n",
    "import datetime"
   ]
  },
  {
   "cell_type": "markdown",
   "metadata": {},
   "source": [
    "## Import the data"
   ]
  },
  {
   "cell_type": "code",
   "execution_count": 14,
   "metadata": {},
   "outputs": [],
   "source": [
    "df=pd.read_csv(\"data/malaria_cases.csv\")"
   ]
  },
  {
   "cell_type": "markdown",
   "metadata": {},
   "source": [
    "### *Reset so that the count and the year are column names*"
   ]
  },
  {
   "cell_type": "code",
   "execution_count": 15,
   "metadata": {},
   "outputs": [
    {
     "data": {
      "text/html": [
       "<div>\n",
       "<style scoped>\n",
       "    .dataframe tbody tr th:only-of-type {\n",
       "        vertical-align: middle;\n",
       "    }\n",
       "\n",
       "    .dataframe tbody tr th {\n",
       "        vertical-align: top;\n",
       "    }\n",
       "\n",
       "    .dataframe thead th {\n",
       "        text-align: right;\n",
       "    }\n",
       "</style>\n",
       "<table border=\"1\" class=\"dataframe\">\n",
       "  <thead>\n",
       "    <tr style=\"text-align: right;\">\n",
       "      <th></th>\n",
       "      <th>county</th>\n",
       "      <th>year</th>\n",
       "      <th>month</th>\n",
       "      <th>value</th>\n",
       "    </tr>\n",
       "  </thead>\n",
       "  <tbody>\n",
       "    <tr>\n",
       "      <th>0</th>\n",
       "      <td>Baringo County</td>\n",
       "      <td>2019</td>\n",
       "      <td>1</td>\n",
       "      <td>4832</td>\n",
       "    </tr>\n",
       "    <tr>\n",
       "      <th>1</th>\n",
       "      <td>Bomet County</td>\n",
       "      <td>2019</td>\n",
       "      <td>1</td>\n",
       "      <td>855</td>\n",
       "    </tr>\n",
       "    <tr>\n",
       "      <th>2</th>\n",
       "      <td>Bungoma County</td>\n",
       "      <td>2019</td>\n",
       "      <td>1</td>\n",
       "      <td>26851</td>\n",
       "    </tr>\n",
       "    <tr>\n",
       "      <th>3</th>\n",
       "      <td>Busia County</td>\n",
       "      <td>2019</td>\n",
       "      <td>1</td>\n",
       "      <td>71686</td>\n",
       "    </tr>\n",
       "    <tr>\n",
       "      <th>4</th>\n",
       "      <td>Elgeyo Marakwet County</td>\n",
       "      <td>2019</td>\n",
       "      <td>1</td>\n",
       "      <td>1334</td>\n",
       "    </tr>\n",
       "  </tbody>\n",
       "</table>\n",
       "</div>"
      ],
      "text/plain": [
       "                   county  year  month  value\n",
       "0          Baringo County  2019      1   4832\n",
       "1            Bomet County  2019      1    855\n",
       "2          Bungoma County  2019      1  26851\n",
       "3            Busia County  2019      1  71686\n",
       "4  Elgeyo Marakwet County  2019      1   1334"
      ]
     },
     "execution_count": 15,
     "metadata": {},
     "output_type": "execute_result"
    }
   ],
   "source": [
    "df.head()"
   ]
  },
  {
   "cell_type": "markdown",
   "metadata": {},
   "source": [
    "## Add a date column\n"
   ]
  },
  {
   "cell_type": "code",
   "execution_count": 16,
   "metadata": {},
   "outputs": [],
   "source": [
    "df[\"date\"]=df.apply(lambda row:   datetime.datetime(row[\"year\"],row[\"month\"],1), axis=1)\n",
    "df[\"date1\"]=df[\"date\"]"
   ]
  },
  {
   "cell_type": "markdown",
   "metadata": {},
   "source": [
    "## Set the data column as the index column"
   ]
  },
  {
   "cell_type": "code",
   "execution_count": 17,
   "metadata": {},
   "outputs": [
    {
     "data": {
      "text/html": [
       "<div>\n",
       "<style scoped>\n",
       "    .dataframe tbody tr th:only-of-type {\n",
       "        vertical-align: middle;\n",
       "    }\n",
       "\n",
       "    .dataframe tbody tr th {\n",
       "        vertical-align: top;\n",
       "    }\n",
       "\n",
       "    .dataframe thead th {\n",
       "        text-align: right;\n",
       "    }\n",
       "</style>\n",
       "<table border=\"1\" class=\"dataframe\">\n",
       "  <thead>\n",
       "    <tr style=\"text-align: right;\">\n",
       "      <th></th>\n",
       "      <th>county</th>\n",
       "      <th>year</th>\n",
       "      <th>month</th>\n",
       "      <th>value</th>\n",
       "      <th>date1</th>\n",
       "    </tr>\n",
       "    <tr>\n",
       "      <th>date</th>\n",
       "      <th></th>\n",
       "      <th></th>\n",
       "      <th></th>\n",
       "      <th></th>\n",
       "      <th></th>\n",
       "    </tr>\n",
       "  </thead>\n",
       "  <tbody>\n",
       "    <tr>\n",
       "      <th>2019-01-01</th>\n",
       "      <td>Baringo County</td>\n",
       "      <td>2019</td>\n",
       "      <td>1</td>\n",
       "      <td>4832</td>\n",
       "      <td>2019-01-01</td>\n",
       "    </tr>\n",
       "    <tr>\n",
       "      <th>2019-01-01</th>\n",
       "      <td>Bomet County</td>\n",
       "      <td>2019</td>\n",
       "      <td>1</td>\n",
       "      <td>855</td>\n",
       "      <td>2019-01-01</td>\n",
       "    </tr>\n",
       "    <tr>\n",
       "      <th>2019-01-01</th>\n",
       "      <td>Bungoma County</td>\n",
       "      <td>2019</td>\n",
       "      <td>1</td>\n",
       "      <td>26851</td>\n",
       "      <td>2019-01-01</td>\n",
       "    </tr>\n",
       "    <tr>\n",
       "      <th>2019-01-01</th>\n",
       "      <td>Busia County</td>\n",
       "      <td>2019</td>\n",
       "      <td>1</td>\n",
       "      <td>71686</td>\n",
       "      <td>2019-01-01</td>\n",
       "    </tr>\n",
       "    <tr>\n",
       "      <th>2019-01-01</th>\n",
       "      <td>Elgeyo Marakwet County</td>\n",
       "      <td>2019</td>\n",
       "      <td>1</td>\n",
       "      <td>1334</td>\n",
       "      <td>2019-01-01</td>\n",
       "    </tr>\n",
       "  </tbody>\n",
       "</table>\n",
       "</div>"
      ],
      "text/plain": [
       "                            county  year  month  value      date1\n",
       "date                                                             \n",
       "2019-01-01          Baringo County  2019      1   4832 2019-01-01\n",
       "2019-01-01            Bomet County  2019      1    855 2019-01-01\n",
       "2019-01-01          Bungoma County  2019      1  26851 2019-01-01\n",
       "2019-01-01            Busia County  2019      1  71686 2019-01-01\n",
       "2019-01-01  Elgeyo Marakwet County  2019      1   1334 2019-01-01"
      ]
     },
     "execution_count": 17,
     "metadata": {},
     "output_type": "execute_result"
    }
   ],
   "source": [
    "df1=df.set_index(\"date\", drop=True)\n",
    "df1.head()"
   ]
  },
  {
   "cell_type": "code",
   "execution_count": 18,
   "metadata": {},
   "outputs": [],
   "source": [
    "df1.drop([\"year\", \"month\"], axis=1, inplace=True)"
   ]
  },
  {
   "cell_type": "code",
   "execution_count": 19,
   "metadata": {},
   "outputs": [
    {
     "name": "stdout",
     "output_type": "stream",
     "text": [
      "['Baringo County', 'Bomet County', 'Bungoma County', 'Busia County', 'Elgeyo Marakwet County', 'Embu County', 'Garissa County', 'Homa Bay County', 'Isiolo County', 'Kajiado County', 'Kakamega County', 'Kericho County', 'Kiambu County', 'Kilifi County', 'Kirinyaga County', 'Kisii County', 'Kisumu County', 'Kitui County', 'Kwale County', 'Laikipia County', 'Lamu County', 'Machakos County', 'Makueni County', 'Mandera County', 'Marsabit County', 'Meru County', 'Migori County', 'Mombasa County', 'Muranga County', 'Nairobi County', 'Nakuru County', 'Nandi County', 'Narok County', 'Nyamira County', 'Nyandarua County', 'Nyeri County', 'Samburu County', 'Siaya County', 'Taita Taveta County', 'Tana River County', 'Tharaka Nithi County', 'Trans Nzoia County', 'Turkana County', 'Uasin Gishu County', 'Vihiga County', 'Wajir County', 'West Pokot County']\n"
     ]
    }
   ],
   "source": [
    "#list of counties\n",
    "counties=list(df1[\"county\"].unique()) # To be used in a drop down in the dashboard\n",
    "print(counties)"
   ]
  },
  {
   "cell_type": "markdown",
   "metadata": {},
   "source": [
    "### Plot the time series"
   ]
  },
  {
   "cell_type": "code",
   "execution_count": 20,
   "metadata": {},
   "outputs": [],
   "source": [
    "def plot(x,y, format=\"-r\", lineLabel=\"\", xLabel=\"\",yLabel=\"\"):\n",
    "     ax.plot(x,y, format, label=lineLabel)\n",
    "     ax.legend(loc=2)\n",
    "     ax.set_xlabel(xLabel)\n",
    "     ax.set_ylabel(yLabel)\n",
    "     ax.set_xticks(x)\n",
    "      \n",
    "    "
   ]
  },
  {
   "cell_type": "markdown",
   "metadata": {},
   "source": [
    "### *Consider only Nairobi County*"
   ]
  },
  {
   "cell_type": "code",
   "execution_count": 21,
   "metadata": {},
   "outputs": [],
   "source": [
    "df2=df1[df1[\"county\"]==\"Nairobi County\"]"
   ]
  },
  {
   "cell_type": "code",
   "execution_count": 22,
   "metadata": {},
   "outputs": [
    {
     "data": {
      "image/png": "[encoded data removed]",
      "text/plain": [
       "<Figure size 1080x432 with 1 Axes>"
      ]
     },
     "metadata": {
      "needs_background": "light"
     },
     "output_type": "display_data"
    }
   ],
   "source": [
    "plt.rcParams['figure.figsize']=(15,6)\n",
    "fig, ax=plt.subplots()\n",
    "plot(df2.index,df2.value,\"-gx\",lineLabel=r\"date vs Cases\",  xLabel=\"date\",yLabel=\"value\")\n",
    "plt.xticks(rotation=45, ha='right')\n",
    "plt.show() \n",
    "plt.rcParams[\"figure.figsize\"] = plt.rcParamsDefault[\"figure.figsize\"]"
   ]
  },
  {
   "cell_type": "markdown",
   "metadata": {},
   "source": [
    "## Plot the three years stacked together"
   ]
  },
  {
   "cell_type": "code",
   "execution_count": 23,
   "metadata": {},
   "outputs": [
    {
     "name": "stdout",
     "output_type": "stream",
     "text": [
      "date\n",
      "2019-01-01     1\n",
      "2019-02-01     2\n",
      "2019-03-01     3\n",
      "2019-04-01     4\n",
      "2019-05-01     5\n",
      "2019-06-01     6\n",
      "2019-07-01     7\n",
      "2019-08-01     8\n",
      "2019-09-01     9\n",
      "2019-10-01    10\n",
      "2019-11-01    11\n",
      "2019-12-01    12\n",
      "2020-01-01     1\n",
      "2020-02-01     2\n",
      "2020-03-01     3\n",
      "2020-04-01     4\n",
      "2020-05-01     5\n",
      "2020-06-01     6\n",
      "2020-07-01     7\n",
      "2020-08-01     8\n",
      "2020-09-01     9\n",
      "2020-10-01    10\n",
      "2020-11-01    11\n",
      "2020-12-01    12\n",
      "2021-01-01     1\n",
      "2021-02-01     2\n",
      "2021-03-01     3\n",
      "2021-04-01     4\n",
      "2021-05-01     5\n",
      "2021-06-01     6\n",
      "2021-07-01     7\n",
      "2021-08-01     8\n",
      "2021-09-01     9\n",
      "2021-10-01    10\n",
      "2021-11-01    11\n",
      "2021-12-01    12\n",
      "Name: date1, dtype: int64\n"
     ]
    },
    {
     "name": "stderr",
     "output_type": "stream",
     "text": [
      "/tmp/ipykernel_187037/3234409610.py:2: SettingWithCopyWarning: \n",
      "A value is trying to be set on a copy of a slice from a DataFrame.\n",
      "Try using .loc[row_indexer,col_indexer] = value instead\n",
      "\n",
      "See the caveats in the documentation: https://pandas.pydata.org/pandas-docs/stable/user_guide/indexing.html#returning-a-view-versus-a-copy\n",
      "  df2[\"month\"]=x\n"
     ]
    }
   ],
   "source": [
    "x=df2[\"date1\"].dt.month\n",
    "df2[\"month\"]=x\n",
    "print(x)"
   ]
  },
  {
   "cell_type": "code",
   "execution_count": 24,
   "metadata": {},
   "outputs": [
    {
     "data": {
      "image/png": "[encoded data removed]",
      "text/plain": [
       "<Figure size 1080x432 with 1 Axes>"
      ]
     },
     "metadata": {
      "needs_background": "light"
     },
     "output_type": "display_data"
    }
   ],
   "source": [
    "plt.rcParams['figure.figsize']=(15,6)\n",
    "fig, ax=plt.subplots()\n",
    "df3=df2[df2[\"date1\"].dt.year==2019]\n",
    "plot(df3.month,df3.value,\"-gx\",lineLabel=r\"2019\", xLabel=\"date\",yLabel=\"value\")\n",
    "df3=df2[df2[\"date1\"].dt.year==2020]\n",
    "plot(df3.month,df3.value,\"-rx\",lineLabel=r\"2020\", xLabel=\"date\",yLabel=\"value\")\n",
    "df3=df2[df2[\"date1\"].dt.year==2021]\n",
    "plot(df3.month,df3.value,\"-bx\",lineLabel=r\"2021\", xLabel=\"date\",yLabel=\"value\")\n",
    "plt.xticks(rotation=45, ha='right')\n",
    "fig.suptitle(\"2019-2021\")\n",
    "plt.show() \n",
    "plt.rcParams[\"figure.figsize\"] = plt.rcParamsDefault[\"figure.figsize\"]"
   ]
  },
  {
   "cell_type": "markdown",
   "metadata": {},
   "source": [
    "# Time Series decomposition"
   ]
  },
  {
   "cell_type": "markdown",
   "metadata": {},
   "source": [
    "### A time series can be decomposed into its components wich are\n",
    "<font color=green>\n",
    "    - Seasonality (repeating after some interval)<br>\n",
    "    - Trend (increasing or decreasing)<br>\n",
    "    - base level (a straight line of the mean value)<br>\n",
    "    - error (Residual)\n",
    "</font>\n",
    "\n",
    "### We use *seasonal_decompose* from the *statsmodels* to decompose our time series\n"
   ]
  },
  {
   "cell_type": "markdown",
   "metadata": {},
   "source": [
    "### The are two types of decomposition\n",
    "- Additive -- Base level + Seasonality + Trend + Error\n",
    "- Multiplication -- Base level * Seasonality * Trend * Error"
   ]
  },
  {
   "cell_type": "markdown",
   "metadata": {},
   "source": [
    "### *We decompose with each of them to see which one applies*"
   ]
  },
  {
   "cell_type": "code",
   "execution_count": 25,
   "metadata": {},
   "outputs": [],
   "source": [
    "from statsmodels.tsa.seasonal import seasonal_decompose\n",
    "from dateutil.parser import parse"
   ]
  },
  {
   "cell_type": "code",
   "execution_count": 26,
   "metadata": {},
   "outputs": [
    {
     "data": {
      "text/html": [
       "<div>\n",
       "<style scoped>\n",
       "    .dataframe tbody tr th:only-of-type {\n",
       "        vertical-align: middle;\n",
       "    }\n",
       "\n",
       "    .dataframe tbody tr th {\n",
       "        vertical-align: top;\n",
       "    }\n",
       "\n",
       "    .dataframe thead th {\n",
       "        text-align: right;\n",
       "    }\n",
       "</style>\n",
       "<table border=\"1\" class=\"dataframe\">\n",
       "  <thead>\n",
       "    <tr style=\"text-align: right;\">\n",
       "      <th></th>\n",
       "      <th>county</th>\n",
       "      <th>value</th>\n",
       "      <th>date1</th>\n",
       "      <th>month</th>\n",
       "    </tr>\n",
       "  </thead>\n",
       "  <tbody>\n",
       "    <tr>\n",
       "      <th>2019-01-31</th>\n",
       "      <td>Nairobi County</td>\n",
       "      <td>9329</td>\n",
       "      <td>2019-01-01</td>\n",
       "      <td>1</td>\n",
       "    </tr>\n",
       "    <tr>\n",
       "      <th>2019-02-28</th>\n",
       "      <td>Nairobi County</td>\n",
       "      <td>5814</td>\n",
       "      <td>2019-02-01</td>\n",
       "      <td>2</td>\n",
       "    </tr>\n",
       "    <tr>\n",
       "      <th>2019-03-31</th>\n",
       "      <td>Nairobi County</td>\n",
       "      <td>7719</td>\n",
       "      <td>2019-03-01</td>\n",
       "      <td>3</td>\n",
       "    </tr>\n",
       "    <tr>\n",
       "      <th>2019-04-30</th>\n",
       "      <td>Nairobi County</td>\n",
       "      <td>6021</td>\n",
       "      <td>2019-04-01</td>\n",
       "      <td>4</td>\n",
       "    </tr>\n",
       "    <tr>\n",
       "      <th>2019-05-31</th>\n",
       "      <td>Nairobi County</td>\n",
       "      <td>6449</td>\n",
       "      <td>2019-05-01</td>\n",
       "      <td>5</td>\n",
       "    </tr>\n",
       "  </tbody>\n",
       "</table>\n",
       "</div>"
      ],
      "text/plain": [
       "                    county  value      date1  month\n",
       "2019-01-31  Nairobi County   9329 2019-01-01      1\n",
       "2019-02-28  Nairobi County   5814 2019-02-01      2\n",
       "2019-03-31  Nairobi County   7719 2019-03-01      3\n",
       "2019-04-30  Nairobi County   6021 2019-04-01      4\n",
       "2019-05-31  Nairobi County   6449 2019-05-01      5"
      ]
     },
     "execution_count": 26,
     "metadata": {},
     "output_type": "execute_result"
    }
   ],
   "source": [
    "x=pd.date_range(start=\"2019-01-31\", end=\"2021-12-31\", periods=None, freq=\"M\")\n",
    "df2.index=x\n",
    "df2.head()"
   ]
  },
  {
   "cell_type": "code",
   "execution_count": 27,
   "metadata": {},
   "outputs": [],
   "source": [
    "#Multiplicative decomposition\n",
    "resultMulti= seasonal_decompose(df2['value'], model='multiplicative')\n",
    "#Additive Decomposition\n",
    "resultAdd = seasonal_decompose(df2['value'], model='additive')"
   ]
  },
  {
   "cell_type": "markdown",
   "metadata": {},
   "source": [
    "### Plotting"
   ]
  },
  {
   "cell_type": "code",
   "execution_count": 28,
   "metadata": {},
   "outputs": [
    {
     "data": {
      "image/png": "[encoded data removed]",
      "text/plain": [
       "<Figure size 1080x432 with 4 Axes>"
      ]
     },
     "metadata": {
      "needs_background": "light"
     },
     "output_type": "display_data"
    },
    {
     "data": {
      "image/png": "[encoded data removed]",
      "text/plain": [
       "<Figure size 1080x432 with 4 Axes>"
      ]
     },
     "metadata": {
      "needs_background": "light"
     },
     "output_type": "display_data"
    }
   ],
   "source": [
    "plt.rcParams['figure.figsize']=(15,6)\n",
    "resultMulti.plot().suptitle(\"Multiplicative\", fontsize=16, x=0.2, y=1)\n",
    "resultAdd.plot().suptitle(\"Additive\", fontsize=16,  x=0.2, y=1)\n",
    "plt.rcParams[\"figure.figsize\"] = plt.rcParamsDefault[\"figure.figsize\"]"
   ]
  },
  {
   "cell_type": "markdown",
   "metadata": {},
   "source": [
    "<font color=blue>\n",
    "The additive model seems to be more applicable since the noise is centered around 0 - which is the expected behaviour for noise\n",
    "</font>"
   ]
  },
  {
   "cell_type": "markdown",
   "metadata": {},
   "source": [
    "# Forecasting#"
   ]
  },
  {
   "cell_type": "markdown",
   "metadata": {},
   "source": [
    "### <font color=green> We use the ARIMA (Autoregressive integrated moving average) model</font>"
   ]
  },
  {
   "cell_type": "markdown",
   "metadata": {},
   "source": [
    "#### We are going to train the model then evaluate its performance. <br>Then we will use all the data to train so we can forecast the cases for Jan 2022"
   ]
  },
  {
   "cell_type": "code",
   "execution_count": 29,
   "metadata": {},
   "outputs": [],
   "source": [
    "endTrain=datetime.datetime(2020,12,31)\n",
    "df3=df2.copy(deep=True)"
   ]
  },
  {
   "cell_type": "code",
   "execution_count": 30,
   "metadata": {},
   "outputs": [],
   "source": [
    "df3[\"date1\"]=df3.index\n",
    "train=df3[df3.date1<=endTrain]\n",
    "test=df3[df3.date1>endTrain]"
   ]
  },
  {
   "cell_type": "code",
   "execution_count": 31,
   "metadata": {},
   "outputs": [
    {
     "name": "stdout",
     "output_type": "stream",
     "text": [
      "(24, 4)\n",
      "(12, 4)\n"
     ]
    },
    {
     "data": {
      "text/html": [
       "<div>\n",
       "<style scoped>\n",
       "    .dataframe tbody tr th:only-of-type {\n",
       "        vertical-align: middle;\n",
       "    }\n",
       "\n",
       "    .dataframe tbody tr th {\n",
       "        vertical-align: top;\n",
       "    }\n",
       "\n",
       "    .dataframe thead th {\n",
       "        text-align: right;\n",
       "    }\n",
       "</style>\n",
       "<table border=\"1\" class=\"dataframe\">\n",
       "  <thead>\n",
       "    <tr style=\"text-align: right;\">\n",
       "      <th></th>\n",
       "      <th>county</th>\n",
       "      <th>value</th>\n",
       "      <th>date1</th>\n",
       "      <th>month</th>\n",
       "    </tr>\n",
       "  </thead>\n",
       "  <tbody>\n",
       "    <tr>\n",
       "      <th>2019-01-31</th>\n",
       "      <td>Nairobi County</td>\n",
       "      <td>9329</td>\n",
       "      <td>2019-01-31</td>\n",
       "      <td>1</td>\n",
       "    </tr>\n",
       "    <tr>\n",
       "      <th>2019-02-28</th>\n",
       "      <td>Nairobi County</td>\n",
       "      <td>5814</td>\n",
       "      <td>2019-02-28</td>\n",
       "      <td>2</td>\n",
       "    </tr>\n",
       "    <tr>\n",
       "      <th>2019-03-31</th>\n",
       "      <td>Nairobi County</td>\n",
       "      <td>7719</td>\n",
       "      <td>2019-03-31</td>\n",
       "      <td>3</td>\n",
       "    </tr>\n",
       "    <tr>\n",
       "      <th>2019-04-30</th>\n",
       "      <td>Nairobi County</td>\n",
       "      <td>6021</td>\n",
       "      <td>2019-04-30</td>\n",
       "      <td>4</td>\n",
       "    </tr>\n",
       "    <tr>\n",
       "      <th>2019-05-31</th>\n",
       "      <td>Nairobi County</td>\n",
       "      <td>6449</td>\n",
       "      <td>2019-05-31</td>\n",
       "      <td>5</td>\n",
       "    </tr>\n",
       "  </tbody>\n",
       "</table>\n",
       "</div>"
      ],
      "text/plain": [
       "                    county  value      date1  month\n",
       "2019-01-31  Nairobi County   9329 2019-01-31      1\n",
       "2019-02-28  Nairobi County   5814 2019-02-28      2\n",
       "2019-03-31  Nairobi County   7719 2019-03-31      3\n",
       "2019-04-30  Nairobi County   6021 2019-04-30      4\n",
       "2019-05-31  Nairobi County   6449 2019-05-31      5"
      ]
     },
     "execution_count": 31,
     "metadata": {},
     "output_type": "execute_result"
    }
   ],
   "source": [
    "print(train.shape)\n",
    "print(test.shape)\n",
    "train.head()"
   ]
  },
  {
   "cell_type": "code",
   "execution_count": 32,
   "metadata": {},
   "outputs": [
    {
     "data": {
      "text/html": [
       "<div>\n",
       "<style scoped>\n",
       "    .dataframe tbody tr th:only-of-type {\n",
       "        vertical-align: middle;\n",
       "    }\n",
       "\n",
       "    .dataframe tbody tr th {\n",
       "        vertical-align: top;\n",
       "    }\n",
       "\n",
       "    .dataframe thead th {\n",
       "        text-align: right;\n",
       "    }\n",
       "</style>\n",
       "<table border=\"1\" class=\"dataframe\">\n",
       "  <thead>\n",
       "    <tr style=\"text-align: right;\">\n",
       "      <th></th>\n",
       "      <th>value</th>\n",
       "    </tr>\n",
       "  </thead>\n",
       "  <tbody>\n",
       "    <tr>\n",
       "      <th>2019-01-31</th>\n",
       "      <td>9329</td>\n",
       "    </tr>\n",
       "    <tr>\n",
       "      <th>2019-02-28</th>\n",
       "      <td>5814</td>\n",
       "    </tr>\n",
       "    <tr>\n",
       "      <th>2019-03-31</th>\n",
       "      <td>7719</td>\n",
       "    </tr>\n",
       "    <tr>\n",
       "      <th>2019-04-30</th>\n",
       "      <td>6021</td>\n",
       "    </tr>\n",
       "    <tr>\n",
       "      <th>2019-05-31</th>\n",
       "      <td>6449</td>\n",
       "    </tr>\n",
       "  </tbody>\n",
       "</table>\n",
       "</div>"
      ],
      "text/plain": [
       "            value\n",
       "2019-01-31   9329\n",
       "2019-02-28   5814\n",
       "2019-03-31   7719\n",
       "2019-04-30   6021\n",
       "2019-05-31   6449"
      ]
     },
     "execution_count": 32,
     "metadata": {},
     "output_type": "execute_result"
    }
   ],
   "source": [
    "train=train.drop([\"county\", \"date1\", \"month\"], axis=1 )\n",
    "test=test.drop([\"county\", \"date1\", \"month\"], axis=1)\n",
    "train.head()"
   ]
  },
  {
   "cell_type": "code",
   "execution_count": 33,
   "metadata": {},
   "outputs": [],
   "source": [
    "#pip install pmdarima\n",
    "from pmdarima.arima import auto_arima"
   ]
  },
  {
   "cell_type": "code",
   "execution_count": 34,
   "metadata": {},
   "outputs": [],
   "source": [
    "model = auto_arima(train, error_action='ignore', suppress_warnings=True)"
   ]
  },
  {
   "cell_type": "code",
   "execution_count": 35,
   "metadata": {},
   "outputs": [
    {
     "data": {
      "text/plain": [
       "ARIMA(order=(1, 0, 0), scoring_args={}, suppress_warnings=True)"
      ]
     },
     "execution_count": 35,
     "metadata": {},
     "output_type": "execute_result"
    }
   ],
   "source": [
    "model.fit(train)"
   ]
  },
  {
   "cell_type": "code",
   "execution_count": 36,
   "metadata": {},
   "outputs": [],
   "source": [
    "predicted=model.predict(n_periods=len(test))"
   ]
  },
  {
   "cell_type": "code",
   "execution_count": 37,
   "metadata": {},
   "outputs": [
    {
     "name": "stdout",
     "output_type": "stream",
     "text": [
      "RMSE:  9350.90527107589\n"
     ]
    }
   ],
   "source": [
    "from math import sqrt\n",
    "from sklearn.metrics import mean_squared_error\n",
    "rms = sqrt(mean_squared_error(test,predicted))\n",
    "print(\"RMSE: \", rms)"
   ]
  },
  {
   "cell_type": "code",
   "execution_count": 38,
   "metadata": {},
   "outputs": [
    {
     "data": {
      "text/html": [
       "<div>\n",
       "<style scoped>\n",
       "    .dataframe tbody tr th:only-of-type {\n",
       "        vertical-align: middle;\n",
       "    }\n",
       "\n",
       "    .dataframe tbody tr th {\n",
       "        vertical-align: top;\n",
       "    }\n",
       "\n",
       "    .dataframe thead th {\n",
       "        text-align: right;\n",
       "    }\n",
       "</style>\n",
       "<table border=\"1\" class=\"dataframe\">\n",
       "  <thead>\n",
       "    <tr style=\"text-align: right;\">\n",
       "      <th></th>\n",
       "      <th>value</th>\n",
       "      <th>predicted</th>\n",
       "    </tr>\n",
       "  </thead>\n",
       "  <tbody>\n",
       "    <tr>\n",
       "      <th>2021-01-31</th>\n",
       "      <td>13210</td>\n",
       "      <td>8802.749228</td>\n",
       "    </tr>\n",
       "    <tr>\n",
       "      <th>2021-02-28</th>\n",
       "      <td>14229</td>\n",
       "      <td>8046.958434</td>\n",
       "    </tr>\n",
       "    <tr>\n",
       "      <th>2021-03-31</th>\n",
       "      <td>17304</td>\n",
       "      <td>7616.255783</td>\n",
       "    </tr>\n",
       "    <tr>\n",
       "      <th>2021-04-30</th>\n",
       "      <td>11105</td>\n",
       "      <td>7370.811176</td>\n",
       "    </tr>\n",
       "    <tr>\n",
       "      <th>2021-05-31</th>\n",
       "      <td>11401</td>\n",
       "      <td>7230.939609</td>\n",
       "    </tr>\n",
       "    <tr>\n",
       "      <th>2021-06-30</th>\n",
       "      <td>13543</td>\n",
       "      <td>7151.230971</td>\n",
       "    </tr>\n",
       "    <tr>\n",
       "      <th>2021-07-31</th>\n",
       "      <td>19913</td>\n",
       "      <td>7105.807394</td>\n",
       "    </tr>\n",
       "    <tr>\n",
       "      <th>2021-08-31</th>\n",
       "      <td>19031</td>\n",
       "      <td>7079.921851</td>\n",
       "    </tr>\n",
       "    <tr>\n",
       "      <th>2021-09-30</th>\n",
       "      <td>19482</td>\n",
       "      <td>7065.170451</td>\n",
       "    </tr>\n",
       "    <tr>\n",
       "      <th>2021-10-31</th>\n",
       "      <td>17433</td>\n",
       "      <td>7056.764068</td>\n",
       "    </tr>\n",
       "    <tr>\n",
       "      <th>2021-11-30</th>\n",
       "      <td>15167</td>\n",
       "      <td>7051.973521</td>\n",
       "    </tr>\n",
       "    <tr>\n",
       "      <th>2021-12-31</th>\n",
       "      <td>20871</td>\n",
       "      <td>7049.243531</td>\n",
       "    </tr>\n",
       "  </tbody>\n",
       "</table>\n",
       "</div>"
      ],
      "text/plain": [
       "            value    predicted\n",
       "2021-01-31  13210  8802.749228\n",
       "2021-02-28  14229  8046.958434\n",
       "2021-03-31  17304  7616.255783\n",
       "2021-04-30  11105  7370.811176\n",
       "2021-05-31  11401  7230.939609\n",
       "2021-06-30  13543  7151.230971\n",
       "2021-07-31  19913  7105.807394\n",
       "2021-08-31  19031  7079.921851\n",
       "2021-09-30  19482  7065.170451\n",
       "2021-10-31  17433  7056.764068\n",
       "2021-11-30  15167  7051.973521\n",
       "2021-12-31  20871  7049.243531"
      ]
     },
     "execution_count": 38,
     "metadata": {},
     "output_type": "execute_result"
    }
   ],
   "source": [
    "data=test.copy(deep=True)\n",
    "data[\"predicted\"]=predicted\n",
    "data"
   ]
  },
  {
   "cell_type": "markdown",
   "metadata": {},
   "source": [
    "### <font color=red> The prediction does not do so well. Lets see if we can do better<font>\n",
    "### We will try and predict one value at a time then retrain"
   ]
  },
  {
   "cell_type": "code",
   "execution_count": 39,
   "metadata": {},
   "outputs": [],
   "source": [
    "trainingData=list(df2[\"value\"])\n",
    "len(trainingData)\n",
    "#The last years values are stored from position 24\n",
    "#so the initial training data is from position 23 then we predict the value at position 23 first \n",
    "#then all athe way to the value at position 35\n",
    "predicted=[]\n",
    "for i in range(23, 35):\n",
    "    model = auto_arima(trainingData[0:i], error_action='ignore', suppress_warnings=True)\n",
    "    #model.fit(trainingData[0:i])\n",
    "    val=model.predict(n_periods=1)[0]\n",
    "    predicted.append(val)"
   ]
  },
  {
   "cell_type": "code",
   "execution_count": 40,
   "metadata": {},
   "outputs": [],
   "source": [
    "actual=trainingData[24:36]"
   ]
  },
  {
   "cell_type": "code",
   "execution_count": 41,
   "metadata": {},
   "outputs": [
    {
     "data": {
      "text/html": [
       "<div>\n",
       "<style scoped>\n",
       "    .dataframe tbody tr th:only-of-type {\n",
       "        vertical-align: middle;\n",
       "    }\n",
       "\n",
       "    .dataframe tbody tr th {\n",
       "        vertical-align: top;\n",
       "    }\n",
       "\n",
       "    .dataframe thead th {\n",
       "        text-align: right;\n",
       "    }\n",
       "</style>\n",
       "<table border=\"1\" class=\"dataframe\">\n",
       "  <thead>\n",
       "    <tr style=\"text-align: right;\">\n",
       "      <th></th>\n",
       "      <th>actual</th>\n",
       "      <th>predicted</th>\n",
       "    </tr>\n",
       "  </thead>\n",
       "  <tbody>\n",
       "    <tr>\n",
       "      <th>0</th>\n",
       "      <td>13210</td>\n",
       "      <td>10756.704598</td>\n",
       "    </tr>\n",
       "    <tr>\n",
       "      <th>1</th>\n",
       "      <td>14229</td>\n",
       "      <td>8802.749228</td>\n",
       "    </tr>\n",
       "    <tr>\n",
       "      <th>2</th>\n",
       "      <td>17304</td>\n",
       "      <td>11161.157655</td>\n",
       "    </tr>\n",
       "    <tr>\n",
       "      <th>3</th>\n",
       "      <td>11105</td>\n",
       "      <td>12452.454529</td>\n",
       "    </tr>\n",
       "    <tr>\n",
       "      <th>4</th>\n",
       "      <td>11401</td>\n",
       "      <td>15803.080625</td>\n",
       "    </tr>\n",
       "    <tr>\n",
       "      <th>5</th>\n",
       "      <td>13543</td>\n",
       "      <td>10227.559075</td>\n",
       "    </tr>\n",
       "    <tr>\n",
       "      <th>6</th>\n",
       "      <td>19913</td>\n",
       "      <td>10505.619773</td>\n",
       "    </tr>\n",
       "    <tr>\n",
       "      <th>7</th>\n",
       "      <td>19031</td>\n",
       "      <td>12263.975418</td>\n",
       "    </tr>\n",
       "    <tr>\n",
       "      <th>8</th>\n",
       "      <td>19482</td>\n",
       "      <td>19913.000000</td>\n",
       "    </tr>\n",
       "    <tr>\n",
       "      <th>9</th>\n",
       "      <td>17433</td>\n",
       "      <td>19031.000000</td>\n",
       "    </tr>\n",
       "    <tr>\n",
       "      <th>10</th>\n",
       "      <td>15167</td>\n",
       "      <td>19482.000000</td>\n",
       "    </tr>\n",
       "    <tr>\n",
       "      <th>11</th>\n",
       "      <td>20871</td>\n",
       "      <td>17433.000000</td>\n",
       "    </tr>\n",
       "  </tbody>\n",
       "</table>\n",
       "</div>"
      ],
      "text/plain": [
       "    actual     predicted\n",
       "0    13210  10756.704598\n",
       "1    14229   8802.749228\n",
       "2    17304  11161.157655\n",
       "3    11105  12452.454529\n",
       "4    11401  15803.080625\n",
       "5    13543  10227.559075\n",
       "6    19913  10505.619773\n",
       "7    19031  12263.975418\n",
       "8    19482  19913.000000\n",
       "9    17433  19031.000000\n",
       "10   15167  19482.000000\n",
       "11   20871  17433.000000"
      ]
     },
     "execution_count": 41,
     "metadata": {},
     "output_type": "execute_result"
    }
   ],
   "source": [
    "dfPredVsActual=pd.DataFrame({\"actual\":actual, \"predicted\":predicted})\n",
    "dfPredVsActual"
   ]
  },
  {
   "cell_type": "code",
   "execution_count": 42,
   "metadata": {},
   "outputs": [
    {
     "name": "stdout",
     "output_type": "stream",
     "text": [
      "RMSE:  4768.414501848099\n"
     ]
    }
   ],
   "source": [
    "rms = sqrt(mean_squared_error(actual,predicted))\n",
    "print(\"RMSE: \", rms)"
   ]
  },
  {
   "cell_type": "markdown",
   "metadata": {},
   "source": [
    "# <font color=blue>Other possible applications of machine learning</font>"
   ]
  },
  {
   "cell_type": "markdown",
   "metadata": {},
   "source": [
    "- ### Clustering\n",
    "For this dataset we can try to see if there are counties that can be grouped together\n",
    "We would try not to have too many predictors. For instances we for each county we can have the total cases for each of the three years as the attributes i.e. 2019 total cases, 2020 total cases and 2021 total cases before applying a learning algorithm such as <font color=red> kmeans algorithm </font> which is found in the  <font color=red> *cluster* </font> module of the  <font color=red> *sklearn(scikit-learn)* </font>package\n",
    "- ### Regression  \n",
    "This is predicting the value of a continuous variable from the input attribute e.g. The weight based on the height. \n",
    "Although for this dataset we can potentially use regression to calculate the value for year 4 based on the value for the previous three years, this data is best analysed a time series because of the seasonality component\n",
    "The Algorithm mainly used for regression is  <font color=red> LinearRegression  </font> which is found in   <font color=red> sklearn.linear_model </font>. preprocessing e.g. by scaling of data using for example  <font color=red>sklearn.preprocessing.StandardScaler</font> is necessary in order to get good results\n",
    "- ### Classification  \n",
    "This is placing of a new observation into of of a finite number of classes e.g. sick of not sick \n",
    "This data does not rend itself well for classification because of lack of a label. There are many algorithms in scikit-learn used for classification including   <font color=red> k nearest neighbours (neighbors), LogisticRegression, naive_bayes, tree (decision tree), forest (Random Forest) etc.  </font>. preprocessing e.g. by scaling of data using for example  <font color=red>sklearn.preprocessing.StandardScaler</font> is necessary in order to get good results\n",
    "- ### Collaborative filtering  \n",
    "Not done much in this area but depending on the data, one may consider an application in this area"
   ]
  },
  {
   "cell_type": "code",
   "execution_count": null,
   "metadata": {},
   "outputs": [],
   "source": [
    "## Predict for 2022.Assignment \n",
    "## lstm long short term memory"
   ]
  }
 ],
 "metadata": {
  "kernelspec": {
   "display_name": "Python 3",
   "language": "python",
   "name": "python3"
  },
  "language_info": {
   "codemirror_mode": {
    "name": "ipython",
    "version": 3
   },
   "file_extension": ".py",
   "mimetype": "text/x-python",
   "name": "python",
   "nbconvert_exporter": "python",
   "pygments_lexer": "ipython3",
   "version": "3.10.2"
  }
 },
 "nbformat": 4,
 "nbformat_minor": 2
}
